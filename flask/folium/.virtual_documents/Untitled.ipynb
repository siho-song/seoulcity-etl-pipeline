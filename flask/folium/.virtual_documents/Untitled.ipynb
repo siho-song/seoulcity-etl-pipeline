import folium
import pandas as pd
import numpy as np
from matplotlib import pyplot as plt


center = [37.541, 126.986]
tiles=['cartodbpositron','Stamen Toner','OpenStreetMap']


m=folium.Map(
    location=[center[0],center[1]],
    zoom_start = 12,
    tiles = tiles[2]      
)


m


road_df = pd.read_csv('seoul_road.csv')
road_df.rename(columns = {'road_address':'Road Name','x':'lat','y':'lon'},inplace=True)
road_df.replace(0.000000,np.NaN,inplace=True)
road_df.drop(['Unnamed: 0'],axis=1,inplace=True)
road_df_sample=road_df[['Road Name','lat','lon']]



road_df


import json
filename = "sample_map.geojson"
seoul_main_space = json.load(open(filename, encoding="UTF-8"))


seoul_main_space


road_df_sample_dropna = road_df_sample.dropna(axis=0)


road_df_sample_dropna


road_df_sample_nan = road_df_sample[road_df_sample['lat'].isnull()]


road_df_sample_nan


import os

import pandas as pd

from mapboxgl.utils import create_color_stops, df_to_geojson
from mapboxgl.viz import CircleViz



# Load data from sample csv
data_url = 'https://raw.githubusercontent.com/mapbox/mapboxgl-jupyter/master/examples/data/points.csv'
df = pd.read_csv(data_url)



df


df_to_geojson(df, filename='points.geojson',
              properties=['Avg Medicare Payments', 'Avg Covered Charges', 'date'],
              lat='lat', lon='lon', precision=3)


df = json.load(open("points.geojson",encoding="UTF-8"))


# Generate data breaks and color stops from colorBrewer
color_breaks = [0,10,100,1000,10000]
color_stops = create_color_stops(color_breaks, colors='YlGnBu')


# Create the viz from the dataframe
viz = CircleViz('points.geojson',
                access_token=token,
                height='400px',
                color_property = "Avg Medicare Payments",
                color_stops = color_stops,
                center = (-95, 40),
                zoom = 3,
                below_layer = 'waterway-label'
              )
viz.show()



