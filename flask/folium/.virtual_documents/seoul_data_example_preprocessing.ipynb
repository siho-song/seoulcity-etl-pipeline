import pandas as pd
import numpy as np
import folium
import json
import os


pwd = os.getcwd()


filename= pwd + "/seoul_data_example.json"


seoul_example = json.load(open(filename,encoding='UTF-8'))
seoul_example=seoul_example['SeoulRtd.citydata']
list_total_cnt = seoul_example['list_total_count']
Result_code = seoul_example['RESULT']
citydata=seoul_example['CITYDATA']


list_total_cnt


Result_code


AREA_NM=citydata['AREA_NM']


AREA_NM


AVG_ROAD_DATA=citydata['ROAD_TRAFFIC_STTS']['AVG_ROAD_DATA']
AVG_ROAD_DATA


ROAD_TRAFFIC_STTS=citydata['ROAD_TRAFFIC_STTS']['ROAD_TRAFFIC_STTS']


ROAD_TRAFFIC_STTS = pd.DataFrame(ROAD_TRAFFIC_STTS)


ROAD_TRAFFIC_STTS



center = [37.541, 126.986]
tiles=['cartodbpositron','Stamen Toner','OpenStreetMap']
m=folium.Map(
    location=[center[0],center[1]],
    zoom_start = 12,
    tiles = tiles[2]
)

# geojson 파일 로드
geo_json_data = 'map.geojson'

with open(geo_json_data, encoding='utf-8') as f:
    data = f.read()


# geojson 파일을 지도 위에 매핑
folium.GeoJson(data).add_to(m);

ROAD_NM_list=np.array(ROAD_TRAFFIC_STTS['ROAD_NM'])
START_ND_NM_list=np.array(ROAD_TRAFFIC_STTS['START_ND_NM'])
END_ND_NM_list=np.array(ROAD_TRAFFIC_STTS['END_ND_NM'])
DIST_list=np.array(ROAD_TRAFFIC_STTS['DIST'])
SPD_list=np.array(ROAD_TRAFFIC_STTS['SPD'])
IDX_list=np.array(ROAD_TRAFFIC_STTS['IDX'])

# road_info={'도로명':'ROAD_NM','구간명':'START_ND_NM,END_ND_NM','구간 거리':'DIST','평균 속도: SPD','혼잡도 : IDX'}

xylist = np.array(ROAD_TRAFFIC_STTS['XYLIST'])
x_y_list = xylist.reshape(-1, 1).tolist()
x_y_list=[[list(map(float, xy.split('_')))[::-1] for xy in xys[0].split('|')] for xys in x_y_list]

for i in range(len(x_y_list)):
    road_info={}
    road_info['도로명']=ROAD_NM_list[i]
    road_info['구간명']=START_ND_NM_list[i]+"~"+END_ND_NM_list[i]
    road_info['구간 거리']=DIST_list[i]+"m"
    road_info['평균 속도']=SPD_list[i]+"km/h"
    road_info['혼잡도']=IDX_list[i]
    tooltip = json.dumps(road_info)
    folium.PolyLine(locations=x_y_list[i], color='blue',tooltip=tooltip).add_to(m)
# m


m


m.save('sample_map.geojson',encoding='UTF-8')



