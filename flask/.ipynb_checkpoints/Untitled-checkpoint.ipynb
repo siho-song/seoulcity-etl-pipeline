{
 "cells": [
  {
   "cell_type": "code",
   "execution_count": 18,
   "id": "cafcf6a7-bd9a-4ce4-bf27-95a17347b1e5",
   "metadata": {},
   "outputs": [],
   "source": [
    "from flask import Flask, request\n",
    "from kafka import KafkaConsumer\n",
    "import json\n",
    "import time\n",
    "import folium"
   ]
  },
  {
   "cell_type": "code",
   "execution_count": 13,
   "id": "5f4c4664-10c2-4a8d-9932-341a0825c412",
   "metadata": {},
   "outputs": [],
   "source": [
    "\n",
    "consumer = KafkaConsumer(\n",
    "    'seoulcity_visual',  # 수신할 토픽명\n",
    "    bootstrap_servers='localhost:9092',\n",
    "    auto_offset_reset='latest',\n",
    "    value_deserializer=lambda x: json.loads(x.decode('utf-8'))\n",
    ")\n"
   ]
  },
  {
   "cell_type": "code",
   "execution_count": null,
   "id": "c237641c-3aaa-4ec1-8c2b-ca898566dad9",
   "metadata": {},
   "outputs": [],
   "source": [
    "    \n",
    "    \n",
    "@app.route('/', methods=['GET'])\n",
    "def main():\n",
    "    return render_template('index.html')\n",
    "    \n",
    "    \n",
    "\n",
    "\n",
    "if __name__ == '__main__':\n",
    "    app.run(debug=True)"
   ]
  },
  {
   "cell_type": "code",
   "execution_count": 6,
   "id": "d23b4283-a0bf-4dbd-a00c-6707f86277fb",
   "metadata": {},
   "outputs": [],
   "source": [
    " with open('data2.json', 'r') as f:\n",
    "        file_contents = f.read()\n",
    "        data =json.loads(file_contents)\n"
   ]
  },
  {
   "cell_type": "code",
   "execution_count": null,
   "id": "102f54f3-1098-41ab-a1c9-6137627879d8",
   "metadata": {},
   "outputs": [],
   "source": [
    "folium_css = '<link href=\"https://cdnjs.cloudflare.com/ajax/libs/font-awesome/5.15.4/css/all.min.css\" rel=\"stylesheet\">'\n",
    "folium_js = '<script src=\"https://cdnjs.cloudflare.com/ajax/libs/font-awesome/5.15.4/js/all.min.js\"></script>'\n",
    "m.get_root().header.add_child(folium.Element(folium_css))\n",
    "m.get_root().header.add_child(folium.Element(folium_js))"
   ]
  },
  {
   "cell_type": "code",
   "execution_count": 76,
   "id": "956b6b15-0624-4b48-aeb6-8b374bfe7f7a",
   "metadata": {},
   "outputs": [],
   "source": [
    "m=folium.Map(\n",
    "        location=[37.5683136, 127.00946045],\n",
    "        zoom_start = 12,\n",
    "        tiles = tiles[2]\n",
    "    )"
   ]
  },
  {
   "cell_type": "code",
   "execution_count": 72,
   "id": "80bc4a07-0840-46de-a84e-126ff2b949ee",
   "metadata": {},
   "outputs": [
    {
     "data": {
      "text/plain": [
       "<branca.element.Element at 0x7fd33b788160>"
      ]
     },
     "execution_count": 72,
     "metadata": {},
     "output_type": "execute_result"
    }
   ],
   "source": [
    "folium_css = '<link href=\"https://cdnjs.cloudflare.com/ajax/libs/font-awesome/6.4.0/css/all.min.css\" rel=\"stylesheet\">'\n",
    "m.get_root().header.add_child(folium.Element(folium_css))"
   ]
  },
  {
   "cell_type": "code",
   "execution_count": 73,
   "id": "ad37fc5a-fe94-469a-b8fb-4d8b210fa799",
   "metadata": {},
   "outputs": [],
   "source": [
    "icon = folium.Icon(icon='fa-light fa-bicycle',color='black')"
   ]
  },
  {
   "cell_type": "code",
   "execution_count": 77,
   "id": "fc32d14b-7904-47f3-914f-2cb4dc2fcdf3",
   "metadata": {},
   "outputs": [],
   "source": [
    "feature_group = folium.FeatureGroup(name=\"1\")"
   ]
  },
  {
   "cell_type": "code",
   "execution_count": 78,
   "id": "4a831394-c3ea-4c36-9505-cbc191498ee8",
   "metadata": {},
   "outputs": [
    {
     "data": {
      "text/plain": [
       "<folium.map.Marker at 0x7fd33b786df0>"
      ]
     },
     "execution_count": 78,
     "metadata": {},
     "output_type": "execute_result"
    }
   ],
   "source": [
    "marker = folium.Marker(location=[37.5683136, 127.00946045], tooltip={\"날씨\":\"맑음\"}, icon=folium.Icon(icon='flag'))\n",
    "marker.add_to(feature_group)"
   ]
  },
  {
   "cell_type": "code",
   "execution_count": 79,
   "id": "1a2b6941-2cb0-4bb8-9018-1b56ce4ce7e8",
   "metadata": {},
   "outputs": [
    {
     "data": {
      "text/plain": [
       "<folium.map.FeatureGroup at 0x7fd33b788730>"
      ]
     },
     "execution_count": 79,
     "metadata": {},
     "output_type": "execute_result"
    }
   ],
   "source": [
    "feature_group.add_to(m)"
   ]
  },
  {
   "cell_type": "code",
   "execution_count": 80,
   "id": "4450f329-796d-42dc-9e5b-a4c579efefa4",
   "metadata": {},
   "outputs": [],
   "source": [
    "m.save(\"m.html\")"
   ]
  },
  {
   "cell_type": "code",
   "execution_count": null,
   "id": "7d2c1b0e-7525-4d10-a26f-86198bca9048",
   "metadata": {},
   "outputs": [],
   "source": []
  }
 ],
 "metadata": {
  "kernelspec": {
   "display_name": "bigdata",
   "language": "python",
   "name": "bigdata"
  },
  "language_info": {
   "codemirror_mode": {
    "name": "ipython",
    "version": 3
   },
   "file_extension": ".py",
   "mimetype": "text/x-python",
   "name": "python",
   "nbconvert_exporter": "python",
   "pygments_lexer": "ipython3",
   "version": "3.8.16"
  }
 },
 "nbformat": 4,
 "nbformat_minor": 5
}
