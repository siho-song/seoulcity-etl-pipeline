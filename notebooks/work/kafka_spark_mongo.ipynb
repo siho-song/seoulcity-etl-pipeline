{
 "cells": [
  {
   "cell_type": "code",
   "execution_count": 1,
   "id": "de287ebe-2bd1-4606-a3b5-d55e6894f52e",
   "metadata": {
    "tags": []
   },
   "outputs": [],
   "source": [
    "from pyspark.sql import *\n",
    "from pyspark.sql.functions import *\n",
    "from pyspark.sql.types import *\n",
    "from IPython.display import display, display_pretty, clear_output, JSON"
   ]
  },
  {
   "cell_type": "code",
   "execution_count": 2,
   "id": "d61aea41-ba47-4105-b2f9-265b2cff0aad",
   "metadata": {
    "tags": []
   },
   "outputs": [],
   "source": [
    "home=\"/home/jovyan\"\n",
    "data=f\"{home}/work/data\"\n",
    "work_dir=!pwd\n"
   ]
  },
  {
   "cell_type": "code",
   "execution_count": 4,
   "id": "acb01791-cde7-48b0-adfd-1a30385165ba",
   "metadata": {
    "tags": []
   },
   "outputs": [],
   "source": [
    "work_dir=work_dir[0]"
   ]
  },
  {
   "cell_type": "code",
   "execution_count": null,
   "id": "5d93b5ee-d9f1-4c7f-8b1e-65ff75025443",
   "metadata": {},
   "outputs": [],
   "source": []
  }
 ],
 "metadata": {
  "kernelspec": {
   "display_name": "Python 3 (ipykernel)",
   "language": "python",
   "name": "python3"
  },
  "language_info": {
   "codemirror_mode": {
    "name": "ipython",
    "version": 3
   },
   "file_extension": ".py",
   "mimetype": "text/x-python",
   "name": "python",
   "nbconvert_exporter": "python",
   "pygments_lexer": "ipython3",
   "version": "3.10.10"
  }
 },
 "nbformat": 4,
 "nbformat_minor": 5
}
