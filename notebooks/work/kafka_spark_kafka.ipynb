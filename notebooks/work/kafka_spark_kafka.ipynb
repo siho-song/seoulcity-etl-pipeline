{
 "cells": [
  {
   "cell_type": "code",
   "execution_count": 1,
   "id": "453c3623-aeba-4d8a-b7dd-d280941d8739",
   "metadata": {
    "tags": []
   },
   "outputs": [],
   "source": [
    "import os\n",
    "import time\n",
    "from pyspark.sql import SparkSession\n",
    "from pyspark.sql.functions import *\n",
    "from pyspark.sql.types import *"
   ]
  },
  {
   "cell_type": "code",
   "execution_count": 2,
   "id": "dece6bbd-8489-497d-8e96-3988a7ce225e",
   "metadata": {
    "tags": []
   },
   "outputs": [],
   "source": [
    "spark_version = os.environ['APACHE_SPARK_VERSION']\n",
    "os.environ['PYSPARK_SUBMIT_ARGS']=\"--packages org.apache.spark:spark-sql-kafka-0-10_2.12:3.4.0 pyspark-shell\""
   ]
  },
  {
   "cell_type": "code",
   "execution_count": 3,
   "id": "bb7e1d57-8f2c-4664-88e2-0e31819a293a",
   "metadata": {
    "tags": []
   },
   "outputs": [
    {
     "data": {
      "text/plain": [
       "'/home/jovyan/work'"
      ]
     },
     "execution_count": 3,
     "metadata": {},
     "output_type": "execute_result"
    }
   ],
   "source": [
    "pwd"
   ]
  },
  {
   "cell_type": "code",
   "execution_count": 4,
   "id": "cc21389c-13c4-431d-a4db-3eb91210b099",
   "metadata": {
    "tags": []
   },
   "outputs": [
    {
     "data": {
      "text/plain": [
       "'3.4.0'"
      ]
     },
     "execution_count": 4,
     "metadata": {},
     "output_type": "execute_result"
    }
   ],
   "source": [
    "spark_version"
   ]
  },
  {
   "cell_type": "code",
   "execution_count": 5,
   "id": "94f19bbf-6449-4cd1-bdfc-94c11ae263f1",
   "metadata": {
    "tags": []
   },
   "outputs": [
    {
     "name": "stdout",
     "output_type": "stream",
     "text": [
      "/home/jovyan\n"
     ]
    }
   ],
   "source": [
    "print(os.environ['HOME'])"
   ]
  },
  {
   "cell_type": "markdown",
   "id": "2d0d7884-716a-4b54-9cbc-b23ea0f702a0",
   "metadata": {},
   "source": [
    "# Spark Session"
   ]
  },
  {
   "cell_type": "code",
   "execution_count": 6,
   "id": "7008a6ce-789e-4d18-a68a-7bce60e39146",
   "metadata": {
    "tags": []
   },
   "outputs": [],
   "source": [
    "spark = SparkSession.builder\\\n",
    ".appName(\"KafkaConsumer\")\\\n",
    ".master(\"spark://spark-master:17077\")\\\n",
    ".config(\"spark.executor.instances\",\"3\")\\\n",
    ".config(\"spark.executor.cores\",\"1\")\\\n",
    ".config(\"spark.executor.memory\",\"4G\")\\\n",
    ".config(\"spark.sql.session.timeZone\",\"Asia/Seoul\")\\\n",
    ".getOrCreate()\n",
    "\n",
    "spark.conf.set(\"spark.sql.repl.eagerEval.enabled\", True) # display enabled\n",
    "spark.conf.set(\"spark.sql.repl.eagerEval.truncate\", 100) # display output columns size\n"
   ]
  },
  {
   "cell_type": "markdown",
   "id": "e14760a4-b3a2-48c9-b9c8-553936772a7d",
   "metadata": {},
   "source": [
    "# Kafka setting"
   ]
  },
  {
   "cell_type": "code",
   "execution_count": 7,
   "id": "57e4e011-f744-49bc-ac47-c0792d370a77",
   "metadata": {
    "tags": []
   },
   "outputs": [],
   "source": [
    "# configuration\n",
    "kafka_config={\n",
    "    \"bootstrap.servers\":\"kafka:19092\",\n",
    "    \"group.id\":\"seoulcity_consumer_group\",\n",
    "    \"topic.name\":\"seoulcity\"\n",
    "}"
   ]
  },
  {
   "cell_type": "code",
   "execution_count": 8,
   "id": "621c5819-f7d7-48bb-b010-8378dbfeda1e",
   "metadata": {
    "tags": []
   },
   "outputs": [],
   "source": [
    "kafka_reader = spark.readStream\\\n",
    ".format(\"kafka\")\\\n",
    ".option(\"kafka.bootstrap.servers\",kafka_config[\"bootstrap.servers\"])\\\n",
    ".option(\"group.id\",kafka_config[\"group.id\"])\\\n",
    ".option(\"subscribe\",kafka_config[\"topic.name\"])\\\n",
    ".option(\"startingOffsets\",\"earliest\")\\\n",
    ".load()"
   ]
  },
  {
   "cell_type": "markdown",
   "id": "4f191c03-38e3-4e48-acc4-fcdc4e40c3ab",
   "metadata": {},
   "source": [
    "# Schema"
   ]
  },
  {
   "cell_type": "code",
   "execution_count": 9,
   "id": "0a3b4c97-a106-470f-aaeb-71ee173f1e70",
   "metadata": {
    "tags": []
   },
   "outputs": [],
   "source": [
    "seoul_citydata_schema = StructType([\n",
    "    StructField(\"list_total_count\", StringType(), nullable=False),\n",
    "    StructField(\"RESULT\", StructType([\n",
    "        StructField(\"RESULT.CODE\", StringType(), nullable=False),\n",
    "        StructField(\"RESULT.MESSAGE\", StringType(), nullable=False)\n",
    "    ]), nullable=False),\n",
    "    StructField(\"CITYDATA\", StructType([\n",
    "        StructField(\"AREA_NM\", StringType(), nullable=False),\n",
    "        #도로소통정보\n",
    "        StructField(\"ROAD_TRAFFIC_STTS\", StructType([\n",
    "            StructField(\"AVG_ROAD_DATA\", StructType([\n",
    "                StructField(\"ROAD_MSG\", StringType(), nullable=False),\n",
    "                StructField(\"ROAD_TRAFFIC_IDX\", StringType(), nullable=False),\n",
    "                StructField(\"ROAD_TRFFIC_TIME\", StringType(), nullable=False),\n",
    "                StructField(\"ROAD_TRAFFIC_SPD\", StringType(), nullable=False),\n",
    "            ]), nullable=False),\n",
    "            StructField(\"ROAD_TRAFFIC_STTS\", ArrayType(StructType([\n",
    "                StructField(\"LINK_ID\", StringType()),\n",
    "                StructField(\"ROAD_NM\", StringType()),\n",
    "                StructField(\"START_ND_CD\", StringType()),\n",
    "                StructField(\"START_ND_NM\", StringType()),\n",
    "                StructField(\"START_ND_XY\", StringType()),\n",
    "                StructField(\"END_ND_CD\", StringType()),\n",
    "                StructField(\"END_ND_NM\", StringType()),\n",
    "                StructField(\"END_ND_XY\", StringType()),\n",
    "                StructField(\"DIST\", StringType()),\n",
    "                StructField(\"SPD\", StringType()),\n",
    "                StructField(\"IDX\", StringType()),\n",
    "                StructField(\"XYLIST\", StringType())\n",
    "            ])), nullable=False)\n",
    "        ]), nullable=False),\n",
    "        #주차장\n",
    "        StructField(\"PRK_STTS\", StructType([\n",
    "            StructField(\"PRK_STTS\", ArrayType(StructType([\n",
    "                StructField(\"PRK_NM\", StringType()),\n",
    "                StructField(\"PRK_CD\", StringType()),\n",
    "                StructField(\"CPCTY\", StringType()),\n",
    "                StructField(\"CUR_PRK_CNT\", StringType()),\n",
    "                StructField(\"CUR_PRK_TIME\", StringType()),\n",
    "                StructField(\"CUR_PRK_YN\", StringType()),\n",
    "                StructField(\"PAY_YN\", StringType()),\n",
    "                StructField(\"RATES\", StringType()),\n",
    "                StructField(\"TIME_RATES\", StringType()),\n",
    "                StructField(\"ADD_RATES\", StringType()),\n",
    "                StructField(\"ADD_TIME_RATES\", StringType()),\n",
    "                StructField(\"ADDRESS\", StringType()),\n",
    "                StructField(\"ROAD_ADDR\", StringType()),\n",
    "                StructField(\"LNG\", StringType()),\n",
    "                StructField(\"LAT\", StringType()),\n",
    "            ])), nullable=False)\n",
    "        ]), nullable=False),\n",
    "        #따릉이 \n",
    "        StructField(\"SBIKE_STTS\", StructType([\n",
    "            StructField(\"SBIKE_STTS\", ArrayType(StructType([\n",
    "                StructField(\"SBIKE_SPOT_NM\", StringType()),\n",
    "                StructField(\"SBIKE_SPOT_ID\", StringType()),\n",
    "                StructField(\"SBIKE_SHARED\", StringType()),\n",
    "                StructField(\"SBIKE_PARKING_CNT\", StringType()),\n",
    "                StructField(\"SBIKE_RACK_CNT\", StringType()),\n",
    "                StructField(\"SBIKE_X\", StringType()),\n",
    "                StructField(\"SBIKE_Y\", StringType()),\n",
    "            ])), nullable=False)\n",
    "        ]), nullable=False),\n",
    "    ]), nullable=False)\n",
    "])\n"
   ]
  },
  {
   "cell_type": "code",
   "execution_count": 10,
   "id": "65f3984f-2320-48e2-b76f-bacdf2af4bf7",
   "metadata": {
    "tags": []
   },
   "outputs": [],
   "source": [
    "kafka_selector= (\n",
    "    kafka_reader\n",
    "    .select(\n",
    "        col(\"key\").cast(\"string\"),\n",
    "        from_json(col(\"value\").cast(\"string\"),seoul_citydata_schema).alias(\"seoulcity_rawdata\")\n",
    "    ).selectExpr(\"seoulcity_rawdata.CITYDATA.AREA_NM as key\",\"seoulcity_rawdata.CITYDATA.ROAD_TRAFFIC_STTS\",\n",
    "                 \"seoulcity_rawdata.CITYDATA.PRK_STTS\",\"seoulcity_rawdata.CITYDATA.SBIKE_STTS\")\n",
    ")"
   ]
  },
  {
   "cell_type": "code",
   "execution_count": null,
   "id": "0a7ecc2d-5d96-4393-bbac-2a71edc53a78",
   "metadata": {},
   "outputs": [],
   "source": [
    "def "
   ]
  }
 ],
 "metadata": {
  "kernelspec": {
   "display_name": "Python 3 (ipykernel)",
   "language": "python",
   "name": "python3"
  },
  "language_info": {
   "codemirror_mode": {
    "name": "ipython",
    "version": 3
   },
   "file_extension": ".py",
   "mimetype": "text/x-python",
   "name": "python",
   "nbconvert_exporter": "python",
   "pygments_lexer": "ipython3",
   "version": "3.10.10"
  }
 },
 "nbformat": 4,
 "nbformat_minor": 5
}
