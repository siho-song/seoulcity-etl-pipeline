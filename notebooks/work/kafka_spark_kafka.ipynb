{
 "cells": [
  {
   "cell_type": "code",
   "execution_count": 1,
   "id": "0181fc2e-63ec-456e-95e7-f3e9b1a428b4",
   "metadata": {
    "tags": []
   },
   "outputs": [],
   "source": [
    "home_jovyan = \"/home/jovyan\""
   ]
  },
  {
   "cell_type": "code",
   "execution_count": 2,
   "id": "199aca35-b07c-4be2-a797-4c7692fca0fb",
   "metadata": {
    "tags": []
   },
   "outputs": [],
   "source": [
    "work_data = f\"{home_jovyan}/work/data\"\n",
    "workspace=f\"{home_jovyan}/work\"\n",
    "work_dir=!pwd\n",
    "work_dir = work_dir[0]"
   ]
  },
  {
   "cell_type": "code",
   "execution_count": 3,
   "id": "453c3623-aeba-4d8a-b7dd-d280941d8739",
   "metadata": {
    "tags": []
   },
   "outputs": [],
   "source": [
    "import os\n",
    "import time\n",
    "from pyspark.sql import SparkSession\n",
    "from pyspark.sql.functions import *\n",
    "from pyspark.sql.types import *\n",
    "from IPython.display import display, display_pretty, clear_output, JSON\n",
    "import codecs"
   ]
  },
  {
   "cell_type": "code",
   "execution_count": 4,
   "id": "13f3c9cc-7e03-4dc3-87e2-1809b13253e5",
   "metadata": {},
   "outputs": [],
   "source": [
    "spark_version = os.environ['APACHE_SPARK_VERSION']\n",
    "os.environ['PYSPARK_SUBMIT_ARGS']=\"--packages org.apache.spark:spark-sql-kafka-0-10_2.12:3.4.0 pyspark-shell\"\n",
    "\n"
   ]
  },
  {
   "cell_type": "code",
   "execution_count": 5,
   "id": "7008a6ce-789e-4d18-a68a-7bce60e39146",
   "metadata": {
    "tags": []
   },
   "outputs": [],
   "source": [
    "spark = SparkSession.builder\\\n",
    ".appName(\"KafkaConsumer\")\\\n",
    ".master(\"spark://spark-master:17077\")\\\n",
    ".config(\"spark.executor.instances\",\"3\")\\\n",
    ".config(\"spark.executor.cores\",\"1\")\\\n",
    ".config(\"spark.executor.memory\",\"4G\")\\\n",
    ".config(\"spark.sql.session.timeZone\",\"Asia/Seoul\")\\\n",
    ".getOrCreate()\n",
    "\n",
    "spark.conf.set(\"spark.sql.repl.eagerEval.enabled\", True) # display enabled\n",
    "spark.conf.set(\"spark.sql.repl.eagerEval.truncate\", 100) # display output columns size\n"
   ]
  },
  {
   "cell_type": "markdown",
   "id": "e14760a4-b3a2-48c9-b9c8-553936772a7d",
   "metadata": {},
   "source": [
    "# Kafka setting"
   ]
  },
  {
   "cell_type": "code",
   "execution_count": 6,
   "id": "57e4e011-f744-49bc-ac47-c0792d370a77",
   "metadata": {
    "tags": []
   },
   "outputs": [],
   "source": [
    "# configuration\n",
    "kafka_config={\n",
    "    \"bootstrap.servers\":\"kafka:19092\",\n",
    "    \"group.id\":\"seoulcity_to_kafka\",\n",
    "    \"topic.name\":\"seoulcity\"\n",
    "}"
   ]
  },
  {
   "cell_type": "code",
   "execution_count": 7,
   "id": "621c5819-f7d7-48bb-b010-8378dbfeda1e",
   "metadata": {
    "tags": []
   },
   "outputs": [],
   "source": [
    "kafka_reader = spark.readStream \\\n",
    "    .format(\"kafka\") \\\n",
    "    .option(\"kafka.bootstrap.servers\", kafka_config[\"bootstrap.servers\"]) \\\n",
    "    .option(\"group.id\", kafka_config[\"group.id\"]) \\\n",
    "    .option(\"subscribe\", kafka_config[\"topic.name\"]) \\\n",
    "    .load()"
   ]
  },
  {
   "cell_type": "markdown",
   "id": "2fc2e013-0f41-44f7-9aed-8532aac8650f",
   "metadata": {},
   "source": [
    "# Schema"
   ]
  },
  {
   "cell_type": "code",
   "execution_count": 8,
   "id": "be8a0684-09d8-48ab-be4a-82732c38f7a0",
   "metadata": {
    "tags": []
   },
   "outputs": [],
   "source": [
    "seoulcity_schema = StructType([\n",
    "    StructField(\"AREA_NM\",StringType()),\n",
    "    StructField(\"ROAD_TRAFFIC_STTS\",StructType([\n",
    "        StructField(\"AVG_ROAD_DATA\",StructType([\n",
    "            StructField(\"ROAD_MSG\", StringType()),\n",
    "            StructField(\"ROAD_TRAFFIC_IDX\", StringType()),\n",
    "            StructField(\"ROAD_TRFFIC_TIME\", StringType()),\n",
    "            StructField(\"ROAD_TRAFFIC_SPD\", StringType())\n",
    "        ]), nullable=False),\n",
    "        StructField(\"ROAD_TRAFFIC_STTS\",ArrayType(StructType([\n",
    "            StructField(\"LINK_ID\", StringType()),\n",
    "            StructField(\"ROAD_NM\", StringType()),\n",
    "            StructField(\"START_ND_CD\", StringType()),\n",
    "            StructField(\"START_ND_NM\", StringType()),\n",
    "            StructField(\"START_ND_XY\", StringType()),\n",
    "            StructField(\"END_ND_CD\", StringType()),\n",
    "            StructField(\"END_ND_NM\", StringType()),\n",
    "            StructField(\"END_ND_XY\", StringType()),\n",
    "            StructField(\"DIST\", StringType()),\n",
    "            StructField(\"SPD\", StringType()),\n",
    "            StructField(\"IDX\", StringType()),\n",
    "            StructField(\"XYLIST\", StringType())\n",
    "        ])), nullable=False),\n",
    "    ]),nullable=False),\n",
    "    StructField(\"PRK_STTS\",StructType([\n",
    "        StructField(\"PRK_STTS\",ArrayType(StructType([\n",
    "            StructField(\"PRK_NM\", StringType()),\n",
    "            StructField(\"PRK_CD\", StringType()),\n",
    "            StructField(\"CPCTY\", StringType()),\n",
    "            StructField(\"CUR_PRK_CNT\", StringType()),\n",
    "            StructField(\"CUR_PRK_TIME\", StringType()),\n",
    "            StructField(\"CUR_PRK_YN\", StringType()),\n",
    "            StructField(\"PAY_YN\", StringType()),\n",
    "            StructField(\"RATES\", StringType()),\n",
    "            StructField(\"TIME_RATES\", StringType()),\n",
    "            StructField(\"ADD_RATES\", StringType()),\n",
    "            StructField(\"ADD_TIME_RATES\", StringType()),\n",
    "            StructField(\"ADDRESS\", StringType()),\n",
    "            StructField(\"ROAD_ADDR\", StringType()),\n",
    "            StructField(\"LNG\", StringType()),\n",
    "            StructField(\"LAT\", StringType())\n",
    "        ])), nullable=False),\n",
    "    ]),nullable=False),\n",
    "     StructField(\"SBIKE_STTS\",StructType([\n",
    "        StructField(\"SBIKE_STTS\",ArrayType(StructType([\n",
    "            StructField(\"SBIKE_SPOT_NM\", StringType()),\n",
    "            StructField(\"SBIKE_SPOT_ID\", StringType()),\n",
    "            StructField(\"SBIKE_SHARED\", StringType()),\n",
    "            StructField(\"SBIKE_PARKING_CNT\", StringType()),\n",
    "            StructField(\"SBIKE_RACK_CNT\", StringType()),\n",
    "            StructField(\"SBIKE_X\", StringType()),\n",
    "            StructField(\"SBIKE_Y\", StringType())\n",
    "        ])), nullable=False),\n",
    "    ]),nullable=False)\n",
    "])"
   ]
  },
  {
   "cell_type": "code",
   "execution_count": 9,
   "id": "52111ac1-06e9-4050-b828-59b0a6ef7410",
   "metadata": {
    "tags": []
   },
   "outputs": [],
   "source": [
    "# def decode_ascii_to_utf8(value):\n",
    "#     decoded_value = codecs.decode(value.encode(\"latin1\"), \"unicode_escape\").encode(\"latin1\").decode(\"utf-8\")\n",
    "#     return decoded_value"
   ]
  },
  {
   "cell_type": "code",
   "execution_count": 10,
   "id": "56284b98-5e16-435f-8f8c-9eb0f03c6125",
   "metadata": {
    "tags": []
   },
   "outputs": [
    {
     "data": {
      "text/plain": [
       "'/home/jovyan/work'"
      ]
     },
     "execution_count": 10,
     "metadata": {},
     "output_type": "execute_result"
    }
   ],
   "source": [
    "pwd"
   ]
  },
  {
   "cell_type": "markdown",
   "id": "46c429ee-e682-4231-9a30-ec5440f05ffd",
   "metadata": {},
   "source": [
    "# UDF "
   ]
  },
  {
   "cell_type": "markdown",
   "id": "43338cf7-9e5d-4bf4-bb12-584d3de753d8",
   "metadata": {},
   "source": [
    "## Transformation"
   ]
  },
  {
   "cell_type": "code",
   "execution_count": 11,
   "id": "5f491619-10a0-4aa7-959a-a283767047f4",
   "metadata": {
    "tags": []
   },
   "outputs": [],
   "source": [
    "def rts_preprocessing(ROAD_TRAFFIC_STTS):\n",
    "    result = []\n",
    "    if(ROAD_TRAFFIC_STTS is not None):\n",
    "        for element in ROAD_TRAFFIC_STTS:\n",
    "            xylist = element.XYLIST\n",
    "            IDX=element.IDX\n",
    "            coordinates = [[float(xy.split('_')[1]), float(xy.split('_')[0])] for xy in xylist.split('|')]\n",
    "\n",
    "            if IDX == \"혼잡\" :\n",
    "                color = \"red\"\n",
    "            elif IDX == \"서행\":\n",
    "                color = \"orange\"\n",
    "            elif IDX == \"정체\":\n",
    "                color = \"red\"\n",
    "            else :\n",
    "                color = \"green\"\n",
    "\n",
    "            road_info = {\n",
    "                \"도로명\": element.ROAD_NM,\n",
    "                \"구간명\": element.START_ND_NM + \" ~ \" + element.END_ND_NM,\n",
    "                \"구간 거리\": element.DIST + \"m\",\n",
    "                \"평균 속도\": element.SPD + \"km/h\",\n",
    "                \"혼잡도\": IDX\n",
    "            }\n",
    "\n",
    "\n",
    "            extracted_data = {\n",
    "                \"KEY\": 1,\n",
    "                \"COLOR\": color,\n",
    "                \"XYLIST\": coordinates,\n",
    "                \"road_info\": road_info\n",
    "            }\n",
    "            result.append(extracted_data)\n",
    "    return result\n"
   ]
  },
  {
   "cell_type": "code",
   "execution_count": 12,
   "id": "4a2bea97-706f-47a3-bf02-1ec0b869bc68",
   "metadata": {
    "tags": []
   },
   "outputs": [],
   "source": [
    "def prks_preprocessing(PRK_STTS):\n",
    "    result = []\n",
    "    if(PRK_STTS is not None):\n",
    "        PRK_PRICE = \"\"\n",
    "        for element in PRK_STTS:\n",
    "            ADD_TIME_RATES = None\n",
    "            if(element.ADD_TIME_RATES is not None and element.TIME_RATES is not None):\n",
    "                if int(element.ADD_TIME_RATES) > 0:\n",
    "                    ADD_TIME_RATES = 10 / int(element.ADD_TIME_RATES)\n",
    "\n",
    "                TIME_RATES = int(element.TIME_RATES)\n",
    "\n",
    "                if ADD_TIME_RATES is not None and ADD_TIME_RATES * TIME_RATES <= 1000:\n",
    "                    PRK_PRICE = \"1000원 이하 (10분)\"\n",
    "                elif ADD_TIME_RATES is not None and 1000 < ADD_TIME_RATES * TIME_RATES <= 1500:\n",
    "                    PRK_PRICE = \"1000원~1500원 (10분)\"\n",
    "                elif ADD_TIME_RATES is not None and ADD_TIME_RATES * TIME_RATES > 1500:\n",
    "                    PRK_PRICE = \"1500원 이상 (10분)\"\n",
    "                else:\n",
    "                    PRK_PRICE = \"\"\n",
    "\n",
    "            PARK_YN=\"black\"\n",
    "            CUR_PRK_NUM = \"\"\n",
    "\n",
    "            if element.CUR_PRK_YN == \"Y\":\n",
    "                if(int(element.CUR_PRK_CNT) >0):\n",
    "                    PARK_YN=\"green\"\n",
    "                else:\n",
    "                    PARK_YN=\"red\"\n",
    "\n",
    "                CUR_PRK_NUM = element.CUR_PRK_CNT\n",
    "\n",
    "            prk_info = {\n",
    "                \"주차장명\": element.PRK_NM,\n",
    "                \"주소\": element.ADDRESS,\n",
    "                \"주차가능 수\": CUR_PRK_NUM,\n",
    "                \"가격\": PRK_PRICE\n",
    "            }\n",
    "            xylist = [] \n",
    "            xylist.append(float(element.LAT))\n",
    "            xylist.append(float(element.LNG))\n",
    "            extracted_data = {\n",
    "                \"실시간여부\":element.CUR_PRK_YN,\n",
    "                \"COLOR\":PARK_YN,\n",
    "                \"XYLIST\":xylist,\n",
    "                \"prk_info\":prk_info\n",
    "            }\n",
    "\n",
    "            result.append(extracted_data)\n",
    "    return result"
   ]
  },
  {
   "cell_type": "code",
   "execution_count": 13,
   "id": "599aae74-831b-4684-b596-3cc9ad0267f9",
   "metadata": {
    "tags": []
   },
   "outputs": [],
   "source": [
    "def sbikes_preprocessing(SBIKE_STTS):\n",
    "    result=[]\n",
    "    if(SBIKE_STTS is not None):\n",
    "        for element in SBIKE_STTS:\n",
    "           \n",
    "            SBIKE_RATE = \"None\"\n",
    "            if(element.SBIKE_RACK_CNT is not None and element.SBIKE_SHARED is not None):\n",
    "                SBIKE_SHARED = int(element.SBIKE_SHARED)\n",
    "                SBIKE_RACK_CNT = int(element.SBIKE_RACK_CNT)\n",
    "                if SBIKE_RACK_CNT != 0:\n",
    "                    ratio = SBIKE_SHARED / SBIKE_RACK_CNT\n",
    "                    if 0 <= ratio <= 0.7:\n",
    "                        SBIKE_RATE = \"낮음\"\n",
    "                    elif 0.7 < ratio <= 1.3:\n",
    "                        SBIKE_RATE = \"보통\"\n",
    "                    else:\n",
    "                        SBIKE_RATE = \"높음\"\n",
    "                        \n",
    "            IS_SURPLUS = -1\n",
    "            SBIKE_SURPLUS = \"black\"\n",
    "            if(element.SBIKE_PARKING_CNT is not None):\n",
    "                SBIKE_PARKING_CNT=int(element.SBIKE_PARKING_CNT)\n",
    "\n",
    "                if SBIKE_PARKING_CNT > 0:\n",
    "                    IS_SURPLUS=1\n",
    "\n",
    "                    if 0 < SBIKE_PARKING_CNT <= 2:\n",
    "                        SBIKE_SURPLUS = \"orange\"\n",
    "                    elif 2 < SBIKE_PARKING_CNT <= 4:\n",
    "                        SBIKE_SURPLUS = \"green\"\n",
    "                    else:\n",
    "                        SBIKE_SURPLUS = \"blue\"\n",
    "                else:\n",
    "                    IS_SURPLUS = 0\n",
    "                    SBIKE_SURPLUS = \"black\"\n",
    "\n",
    "            xylist = [] \n",
    "            xylist.append(float(element.SBIKE_Y))\n",
    "            xylist.append(float(element.SBIKE_X))\n",
    "            sbike_info = {\n",
    "                \"정류장명\": element.SBIKE_SPOT_NM,\n",
    "                \"대여가능 수\": element.SBIKE_PARKING_CNT,\n",
    "                \"반납율\": SBIKE_RATE,\n",
    "            }\n",
    "\n",
    "            extracted_data = {\n",
    "                \"대여가능여부\": IS_SURPLUS,\n",
    "                \"COLOR\": SBIKE_SURPLUS,\n",
    "                \"XYLIST\": xylist,\n",
    "                \"sbike_info\": sbike_info\n",
    "            }\n",
    "            result.append(extracted_data)\n",
    "    return result"
   ]
  },
  {
   "cell_type": "code",
   "execution_count": 14,
   "id": "a652e869-b146-4d6f-a864-a0930ce69eca",
   "metadata": {
    "tags": []
   },
   "outputs": [],
   "source": [
    "rts_udf = udf(rts_preprocessing, ArrayType(StructType([\n",
    "    StructField(\"KEY\", IntegerType()),\n",
    "    StructField(\"COLOR\", StringType()),\n",
    "    StructField(\"XYLIST\", ArrayType(ArrayType(DoubleType()))),\n",
    "    StructField(\"road_info\", StructType([\n",
    "        StructField(\"도로명\", StringType()),\n",
    "        StructField(\"구간명\", StringType()),\n",
    "        StructField(\"구간 거리\", StringType()),\n",
    "        StructField(\"평균 속도\", StringType()),\n",
    "        StructField(\"혼잡도\", StringType())\n",
    "    ])),\n",
    "])))"
   ]
  },
  {
   "cell_type": "code",
   "execution_count": 15,
   "id": "8a7bd425-501b-4fb0-9661-d676a2f36436",
   "metadata": {
    "tags": []
   },
   "outputs": [],
   "source": [
    "prks_udf = udf(prks_preprocessing, ArrayType(StructType([\n",
    "    StructField(\"실시간여부\", StringType()),\n",
    "    StructField(\"COLOR\", StringType()),\n",
    "    StructField(\"XYLIST\", ArrayType(DoubleType())),\n",
    "    StructField(\"prk_info\", StructType([\n",
    "        StructField(\"주차장명\", StringType()),\n",
    "        StructField(\"주소\", StringType()),\n",
    "        StructField(\"주차가능 수\", StringType()),\n",
    "        StructField(\"가격\", StringType()),\n",
    "    ])),\n",
    "])))"
   ]
  },
  {
   "cell_type": "code",
   "execution_count": 16,
   "id": "19097ab0-97c9-440f-ba84-2eff7ee48ea4",
   "metadata": {
    "tags": []
   },
   "outputs": [],
   "source": [
    "sbikes_udf = udf(sbikes_preprocessing, ArrayType(StructType([\n",
    "    StructField(\"대여가능여부\", IntegerType(), True),\n",
    "    StructField(\"COLOR\", StringType()),\n",
    "    StructField(\"XYLIST\", ArrayType(DoubleType())),\n",
    "    StructField(\"sbike_info\", StructType([\n",
    "        StructField(\"정류장명\",StringType()),\n",
    "        StructField(\"대여가능 수\",StringType()),\n",
    "        StructField(\"반납율\",StringType())\n",
    "    ]))\n",
    "])))"
   ]
  },
  {
   "cell_type": "markdown",
   "id": "aa71013b-c619-4b9c-9209-ee2c0925118d",
   "metadata": {},
   "source": [
    "# Processing"
   ]
  },
  {
   "cell_type": "code",
   "execution_count": 17,
   "id": "f506c6eb-4b70-4332-a428-32cee46f2cd4",
   "metadata": {
    "tags": []
   },
   "outputs": [
    {
     "name": "stdout",
     "output_type": "stream",
     "text": [
      "root\n",
      " |-- key: string (nullable = true)\n",
      " |-- AVG_ROAD_DATA: struct (nullable = true)\n",
      " |    |-- ROAD_MSG: string (nullable = true)\n",
      " |    |-- ROAD_TRAFFIC_IDX: string (nullable = true)\n",
      " |    |-- ROAD_TRFFIC_TIME: string (nullable = true)\n",
      " |    |-- ROAD_TRAFFIC_SPD: string (nullable = true)\n",
      " |-- ROAD_TRAFFIC_STTS: array (nullable = true)\n",
      " |    |-- element: struct (containsNull = true)\n",
      " |    |    |-- KEY: integer (nullable = true)\n",
      " |    |    |-- COLOR: string (nullable = true)\n",
      " |    |    |-- XYLIST: array (nullable = true)\n",
      " |    |    |    |-- element: array (containsNull = true)\n",
      " |    |    |    |    |-- element: double (containsNull = true)\n",
      " |    |    |-- road_info: struct (nullable = true)\n",
      " |    |    |    |-- 도로명: string (nullable = true)\n",
      " |    |    |    |-- 구간명: string (nullable = true)\n",
      " |    |    |    |-- 구간 거리: string (nullable = true)\n",
      " |    |    |    |-- 평균 속도: string (nullable = true)\n",
      " |    |    |    |-- 혼잡도: string (nullable = true)\n",
      " |-- PRK_STTS: array (nullable = true)\n",
      " |    |-- element: struct (containsNull = true)\n",
      " |    |    |-- 실시간여부: string (nullable = true)\n",
      " |    |    |-- COLOR: string (nullable = true)\n",
      " |    |    |-- XYLIST: array (nullable = true)\n",
      " |    |    |    |-- element: double (containsNull = true)\n",
      " |    |    |-- prk_info: struct (nullable = true)\n",
      " |    |    |    |-- 주차장명: string (nullable = true)\n",
      " |    |    |    |-- 주소: string (nullable = true)\n",
      " |    |    |    |-- 주차가능 수: string (nullable = true)\n",
      " |    |    |    |-- 가격: string (nullable = true)\n",
      " |-- SBIKE_STTS: array (nullable = true)\n",
      " |    |-- element: struct (containsNull = true)\n",
      " |    |    |-- 대여가능여부: integer (nullable = true)\n",
      " |    |    |-- COLOR: string (nullable = true)\n",
      " |    |    |-- XYLIST: array (nullable = true)\n",
      " |    |    |    |-- element: double (containsNull = true)\n",
      " |    |    |-- sbike_info: struct (nullable = true)\n",
      " |    |    |    |-- 정류장명: string (nullable = true)\n",
      " |    |    |    |-- 대여가능 수: string (nullable = true)\n",
      " |    |    |    |-- 반납율: string (nullable = true)\n",
      "\n"
     ]
    }
   ],
   "source": [
    "\n",
    "kafka_selector = (\n",
    "    kafka_reader\n",
    "    .select(\n",
    "        col(\"key\").cast(\"string\"),\n",
    "        from_json(col(\"value\").cast(\"string\"),seoulcity_schema).alias(\"seoulcitydata\")\n",
    "    )\n",
    "    .selectExpr(\"seoulcitydata.AREA_NM as key\",\n",
    "                \"seoulcitydata.ROAD_TRAFFIC_STTS.AVG_ROAD_DATA\", \n",
    "                \"seoulcitydata.ROAD_TRAFFIC_STTS.ROAD_TRAFFIC_STTS\", \n",
    "                \"seoulcitydata.PRK_STTS.PRK_STTS\",\n",
    "                \"seoulcitydata.SBIKE_STTS.SBIKE_STTS\"\n",
    "               )\n",
    "    .withColumn(\"ROAD_TRAFFIC_STTS\", rts_udf(col(\"ROAD_TRAFFIC_STTS\")))\n",
    "    .withColumn(\"PRK_STTS\",prks_udf(col(\"PRK_STTS\")))\n",
    "    .withColumn(\"SBIKE_STTS\",sbikes_udf(col(\"SBIKE_STTS\")))\n",
    ")\n",
    "\n",
    "# selected_data = kafka_selector.select(\"서울시데이터.ROAD_TRAFFIC_STTS.AVG_ROAD_DATA\")\n",
    "kafka_selector.printSchema()\n",
    "# 데이터 처리 및 출력 등 원하는 작업을 수행하세요.\n",
    "# 예: 콘솔에 데이터 출력\n",
    "streaming_query = (\n",
    "    kafka_selector.writeStream\n",
    "    .format(\"console\")\n",
    "    .option(\"header\",False)\n",
    "    .option(\"truncate\", False)\n",
    "    .outputMode(\"append\")\n",
    "    .start()\n",
    ")\n"
   ]
  },
  {
   "cell_type": "code",
   "execution_count": 18,
   "id": "601ac874-a3c4-4d33-9843-0f376be4518e",
   "metadata": {},
   "outputs": [],
   "source": [
    "\n",
    "p_kafkaSelector = (\n",
    "    kafka_selector\n",
    "    .withColumn(\"value\", to_json(struct(\"key\", \"AVG_ROAD_DATA\", \"ROAD_TRAFFIC_STTS\", \"PRK_STTS\", \"SBIKE_STTS\")))\n",
    ")\n"
   ]
  },
  {
   "cell_type": "code",
   "execution_count": 19,
   "id": "72918feb-3142-4c7a-a615-3574c3a55b9b",
   "metadata": {},
   "outputs": [],
   "source": [
    "def displayStatus(name, query, iterations, sleep_secs):\n",
    "    from time import sleep\n",
    "    i = 1\n",
    "    for x in range(iterations):\n",
    "        clear_output(wait=True)      # Output Cell 의 내용을 지웁니다\n",
    "        display('[' + name + '] Iteration: '+str(i)+', Status: '+query.status['message'])\n",
    "        display(query.lastProgress)  # 마지막 수행된 쿼리의 상태를 출력합니다\n",
    "        sleep(sleep_secs)            # 지정된 시간(초)을 대기합니다\n",
    "        i += 1"
   ]
  },
  {
   "cell_type": "code",
   "execution_count": 20,
   "id": "8abc699a-3a14-47a3-a230-5465b1b11721",
   "metadata": {
    "tags": []
   },
   "outputs": [
    {
     "data": {
      "text/plain": [
       "'[kafkaQ] Iteration: 1000, Status: Waiting for next trigger'"
      ]
     },
     "metadata": {},
     "output_type": "display_data"
    },
    {
     "data": {
      "text/plain": [
       "{'id': '5f8c00ea-a78a-411c-9fb1-180ca3321401',\n",
       " 'runId': '63067b7c-e409-45cc-9b5d-04d4bc1c13a4',\n",
       " 'name': 'kafkaQ',\n",
       " 'timestamp': '2023-06-05T01:14:00.000Z',\n",
       " 'batchId': 20,\n",
       " 'numInputRows': 0,\n",
       " 'inputRowsPerSecond': 0.0,\n",
       " 'processedRowsPerSecond': 0.0,\n",
       " 'durationMs': {'latestOffset': 1, 'triggerExecution': 1},\n",
       " 'stateOperators': [],\n",
       " 'sources': [{'description': 'KafkaV2[Subscribe[seoulcity]]',\n",
       "   'startOffset': {'seoulcity': {'2': 1254, '1': 1230, '0': 1226}},\n",
       "   'endOffset': {'seoulcity': {'2': 1254, '1': 1230, '0': 1226}},\n",
       "   'latestOffset': {'seoulcity': {'2': 1254, '1': 1230, '0': 1226}},\n",
       "   'numInputRows': 0,\n",
       "   'inputRowsPerSecond': 0.0,\n",
       "   'processedRowsPerSecond': 0.0,\n",
       "   'metrics': {'avgOffsetsBehindLatest': '0.0',\n",
       "    'maxOffsetsBehindLatest': '0',\n",
       "    'minOffsetsBehindLatest': '0'}}],\n",
       " 'sink': {'description': 'org.apache.spark.sql.kafka010.KafkaSourceProvider$KafkaTable@6905e09c',\n",
       "  'numOutputRows': 0}}"
      ]
     },
     "metadata": {},
     "output_type": "display_data"
    }
   ],
   "source": [
    "\n",
    "\n",
    "qname = \"kafkaQ\"\n",
    "kafkaWriter_origin = (\n",
    "    p_kafkaSelector.select(\"key\",\"value\")\n",
    "    .writeStream\n",
    "    .queryName(qname)\n",
    "    .format(\"kafka\")\n",
    "    .option(\"kafka.bootstrap.servers\", \"kafka:19092\")\n",
    "    .option(\"topic\", \"seoulcity_visual\")\n",
    "    .outputMode(\"append\")\n",
    ")\n",
    "\n",
    "checkpointLocation = f\"{work_dir}/tmp/{qname}\"\n",
    "!rm -rf $checkpointLocation\n",
    "kafkaTrigger = (\n",
    "    kafkaWriter_origin\n",
    "    .trigger(processingTime=\"5 second\")\n",
    "    .option(\"checkpointLocation\", checkpointLocation)\n",
    ")\n",
    "\n",
    "kafkaQuery = kafkaTrigger.start()\n",
    "\n",
    "displayStatus(qname, kafkaQuery, 1000, 5)\n",
    "    \n",
    "kafkaQuery.stop()"
   ]
  },
  {
   "cell_type": "code",
   "execution_count": null,
   "id": "af4ee4db-c134-47b7-a722-2da204337d7e",
   "metadata": {},
   "outputs": [],
   "source": []
  },
  {
   "cell_type": "code",
   "execution_count": null,
   "id": "6a730225-68e8-457c-acc4-c99d2771ce47",
   "metadata": {},
   "outputs": [],
   "source": []
  }
 ],
 "metadata": {
  "kernelspec": {
   "display_name": "Python 3 (ipykernel)",
   "language": "python",
   "name": "python3"
  },
  "language_info": {
   "codemirror_mode": {
    "name": "ipython",
    "version": 3
   },
   "file_extension": ".py",
   "mimetype": "text/x-python",
   "name": "python",
   "nbconvert_exporter": "python",
   "pygments_lexer": "ipython3",
   "version": "3.10.10"
  }
 },
 "nbformat": 4,
 "nbformat_minor": 5
}
