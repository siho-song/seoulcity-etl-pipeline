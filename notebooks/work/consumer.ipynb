{
 "cells": [
  {
   "cell_type": "code",
   "execution_count": 5,
   "id": "2872d01c-58f2-483b-a27d-7ec90b959a5a",
   "metadata": {
    "tags": []
   },
   "outputs": [
    {
     "name": "stdout",
     "output_type": "stream",
     "text": [
      "Collecting avro\n",
      "  Downloading avro-1.11.1.tar.gz (84 kB)\n",
      "\u001b[2K     \u001b[90m━━━━━━━━━━━━━━━━━━━━━━━━━━━━━━━━━━━━━━━━\u001b[0m \u001b[32m84.2/84.2 kB\u001b[0m \u001b[31m5.1 MB/s\u001b[0m eta \u001b[36m0:00:00\u001b[0m\n",
      "\u001b[?25h  Installing build dependencies ... \u001b[?25ldone\n",
      "\u001b[?25h  Getting requirements to build wheel ... \u001b[?25ldone\n",
      "\u001b[?25h  Preparing metadata (pyproject.toml) ... \u001b[?25ldone\n",
      "\u001b[?25hBuilding wheels for collected packages: avro\n",
      "  Building wheel for avro (pyproject.toml) ... \u001b[?25ldone\n",
      "\u001b[?25h  Created wheel for avro: filename=avro-1.11.1-py2.py3-none-any.whl size=116718 sha256=97e77d7cfc6035a0dfc3999c7ece9d322e7f60dd9d63e30300ae35a6024c6eaf\n",
      "  Stored in directory: /home/jovyan/.cache/pip/wheels/7c/a2/23/0ac3a569e5283890cef1fc901e9a5098df752ce2488c911720\n",
      "Successfully built avro\n",
      "Installing collected packages: avro\n",
      "Successfully installed avro-1.11.1\n"
     ]
    }
   ],
   "source": [
    "!pip install avro"
   ]
  },
  {
   "cell_type": "code",
   "execution_count": 6,
   "id": "4160cfa0-0874-40bf-a28a-6125e0b656e0",
   "metadata": {
    "tags": []
   },
   "outputs": [],
   "source": [
    "from confluent_kafka import Consumer\n",
    "from confluent_kafka.avro import AvroConsumer\n",
    "from confluent_kafka.avro.serializer import SerializerError\n",
    "import json"
   ]
  },
  {
   "cell_type": "code",
   "execution_count": 7,
   "id": "9c43a86b-4ce2-49b2-a2ed-fd6a558971b7",
   "metadata": {
    "tags": []
   },
   "outputs": [
    {
     "name": "stderr",
     "output_type": "stream",
     "text": [
      "/tmp/ipykernel_61816/2558999655.py:12: DeprecationWarning: AvroConsumer has been deprecated. Use AvroDeserializer instead.\n",
      "  consumer = AvroConsumer(conf)\n"
     ]
    },
    {
     "ename": "ValueError",
     "evalue": "Invalid URL provided for Schema Registry",
     "output_type": "error",
     "traceback": [
      "\u001b[0;31m---------------------------------------------------------------------------\u001b[0m",
      "\u001b[0;31mValueError\u001b[0m                                Traceback (most recent call last)",
      "Cell \u001b[0;32mIn[7], line 12\u001b[0m\n\u001b[1;32m      9\u001b[0m topic \u001b[38;5;241m=\u001b[39m \u001b[38;5;124m'\u001b[39m\u001b[38;5;124mseoulcity\u001b[39m\u001b[38;5;124m'\u001b[39m\n\u001b[1;32m     11\u001b[0m \u001b[38;5;66;03m# AvroConsumer 생성\u001b[39;00m\n\u001b[0;32m---> 12\u001b[0m consumer \u001b[38;5;241m=\u001b[39m \u001b[43mAvroConsumer\u001b[49m\u001b[43m(\u001b[49m\u001b[43mconf\u001b[49m\u001b[43m)\u001b[49m\n\u001b[1;32m     14\u001b[0m \u001b[38;5;66;03m# 토픽 구독 설정\u001b[39;00m\n\u001b[1;32m     15\u001b[0m consumer\u001b[38;5;241m.\u001b[39msubscribe([topic])\n",
      "File \u001b[0;32m/opt/conda/lib/python3.10/site-packages/confluent_kafka/avro/__init__.py:156\u001b[0m, in \u001b[0;36mAvroConsumer.__init__\u001b[0;34m(self, config, schema_registry, reader_key_schema, reader_value_schema, **kwargs)\u001b[0m\n\u001b[1;32m    152\u001b[0m ap_conf \u001b[38;5;241m=\u001b[39m {key: value\n\u001b[1;32m    153\u001b[0m            \u001b[38;5;28;01mfor\u001b[39;00m key, value \u001b[38;5;129;01min\u001b[39;00m config\u001b[38;5;241m.\u001b[39mitems() \u001b[38;5;28;01mif\u001b[39;00m \u001b[38;5;129;01mnot\u001b[39;00m key\u001b[38;5;241m.\u001b[39mstartswith(\u001b[38;5;124m\"\u001b[39m\u001b[38;5;124mschema.registry\u001b[39m\u001b[38;5;124m\"\u001b[39m)}\n\u001b[1;32m    155\u001b[0m \u001b[38;5;28;01mif\u001b[39;00m schema_registry \u001b[38;5;129;01mis\u001b[39;00m \u001b[38;5;28;01mNone\u001b[39;00m:\n\u001b[0;32m--> 156\u001b[0m     schema_registry \u001b[38;5;241m=\u001b[39m \u001b[43mCachedSchemaRegistryClient\u001b[49m\u001b[43m(\u001b[49m\u001b[43msr_conf\u001b[49m\u001b[43m)\u001b[49m\n\u001b[1;32m    157\u001b[0m \u001b[38;5;28;01melif\u001b[39;00m sr_conf\u001b[38;5;241m.\u001b[39mget(\u001b[38;5;124m\"\u001b[39m\u001b[38;5;124murl\u001b[39m\u001b[38;5;124m\"\u001b[39m, \u001b[38;5;28;01mNone\u001b[39;00m) \u001b[38;5;129;01mis\u001b[39;00m \u001b[38;5;129;01mnot\u001b[39;00m \u001b[38;5;28;01mNone\u001b[39;00m:\n\u001b[1;32m    158\u001b[0m     \u001b[38;5;28;01mraise\u001b[39;00m \u001b[38;5;167;01mValueError\u001b[39;00m(\u001b[38;5;124m\"\u001b[39m\u001b[38;5;124mCannot pass schema_registry along with schema.registry.url config\u001b[39m\u001b[38;5;124m\"\u001b[39m)\n",
      "File \u001b[0;32m/opt/conda/lib/python3.10/site-packages/confluent_kafka/avro/cached_schema_registry_client.py:95\u001b[0m, in \u001b[0;36mCachedSchemaRegistryClient.__init__\u001b[0;34m(self, url, max_schemas_per_subject, ca_location, cert_location, key_location)\u001b[0m\n\u001b[1;32m     92\u001b[0m     \u001b[38;5;28;01mraise\u001b[39;00m \u001b[38;5;167;01mTypeError\u001b[39;00m(\u001b[38;5;124m\"\u001b[39m\u001b[38;5;124mURL must be of type str\u001b[39m\u001b[38;5;124m\"\u001b[39m)\n\u001b[1;32m     94\u001b[0m \u001b[38;5;28;01mif\u001b[39;00m \u001b[38;5;129;01mnot\u001b[39;00m url\u001b[38;5;241m.\u001b[39mstartswith(\u001b[38;5;124m'\u001b[39m\u001b[38;5;124mhttp\u001b[39m\u001b[38;5;124m'\u001b[39m):\n\u001b[0;32m---> 95\u001b[0m     \u001b[38;5;28;01mraise\u001b[39;00m \u001b[38;5;167;01mValueError\u001b[39;00m(\u001b[38;5;124m\"\u001b[39m\u001b[38;5;124mInvalid URL provided for Schema Registry\u001b[39m\u001b[38;5;124m\"\u001b[39m)\n\u001b[1;32m     97\u001b[0m \u001b[38;5;28mself\u001b[39m\u001b[38;5;241m.\u001b[39murl \u001b[38;5;241m=\u001b[39m url\u001b[38;5;241m.\u001b[39mrstrip(\u001b[38;5;124m'\u001b[39m\u001b[38;5;124m/\u001b[39m\u001b[38;5;124m'\u001b[39m)\n\u001b[1;32m     99\u001b[0m \u001b[38;5;66;03m# subj => { schema => id }\u001b[39;00m\n",
      "\u001b[0;31mValueError\u001b[0m: Invalid URL provided for Schema Registry"
     ]
    }
   ],
   "source": [
    "\n",
    "# 카프카 서버 설정\n",
    "conf = {\n",
    "    'bootstrap.servers': 'kafka:19092',\n",
    "    'group.id': 'seoulcity_consumer_group',\n",
    "    'auto.offset.reset': 'earliest'\n",
    "}\n",
    "\n",
    "# 카프카 토픽 설정\n",
    "topic = 'seoulcity'\n",
    "\n",
    "# AvroConsumer 생성\n",
    "consumer = AvroConsumer(conf)\n",
    "\n",
    "# 토픽 구독 설정\n",
    "consumer.subscribe([topic])\n",
    "\n",
    "# 데이터 읽기\n",
    "while True:\n",
    "    try:\n",
    "        msg = consumer.poll(1)\n",
    "        if msg is None:\n",
    "            continue\n",
    "        if msg.error():\n",
    "            if msg.error().code() == KafkaError._PARTITION_EOF:\n",
    "                continue\n",
    "            else:\n",
    "                print('Consumer error: {}'.format(msg.error()))\n",
    "                break\n",
    "        \n",
    "        # 메시지 디코딩\n",
    "        value = msg.value()\n",
    "        \n",
    "        # 스키마 출력\n",
    "        print(value.schema())\n",
    "        \n",
    "        # 데이터 출력\n",
    "        print(value)\n",
    "        \n",
    "    except SerializerError as e:\n",
    "        print('Message deserialization failed: {}'.format(e))\n",
    "        break\n",
    "\n",
    "# Consumer 종료\n",
    "consumer.close()"
   ]
  },
  {
   "cell_type": "code",
   "execution_count": null,
   "id": "e8b65dae-25b8-4cf7-b98a-485fd7ba445f",
   "metadata": {},
   "outputs": [],
   "source": []
  },
  {
   "cell_type": "code",
   "execution_count": null,
   "id": "2f9018af-9b3c-4bc1-acd9-4acbbf77234f",
   "metadata": {},
   "outputs": [],
   "source": []
  }
 ],
 "metadata": {
  "kernelspec": {
   "display_name": "Python 3 (ipykernel)",
   "language": "python",
   "name": "python3"
  },
  "language_info": {
   "codemirror_mode": {
    "name": "ipython",
    "version": 3
   },
   "file_extension": ".py",
   "mimetype": "text/x-python",
   "name": "python",
   "nbconvert_exporter": "python",
   "pygments_lexer": "ipython3",
   "version": "3.10.10"
  }
 },
 "nbformat": 4,
 "nbformat_minor": 5
}
