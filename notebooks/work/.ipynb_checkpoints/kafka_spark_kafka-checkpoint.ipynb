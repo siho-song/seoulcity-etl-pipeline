{
 "cells": [
  {
   "cell_type": "code",
   "execution_count": 1,
   "id": "453c3623-aeba-4d8a-b7dd-d280941d8739",
   "metadata": {
    "tags": []
   },
   "outputs": [],
   "source": [
    "import os\n",
    "import time\n",
    "from pyspark.sql import SparkSession\n",
    "from pyspark.sql.functions import *\n",
    "from pyspark.sql.types import *\n",
    "from IPython.display import display, display_pretty, clear_output, JSON"
   ]
  },
  {
   "cell_type": "code",
   "execution_count": 2,
   "id": "dece6bbd-8489-497d-8e96-3988a7ce225e",
   "metadata": {
    "tags": []
   },
   "outputs": [],
   "source": [
    "spark_version = os.environ['APACHE_SPARK_VERSION']\n",
    "os.environ['PYSPARK_SUBMIT_ARGS']=\"--packages org.apache.spark:spark-sql-kafka-0-10_2.12:3.4.0 pyspark-shell\""
   ]
  },
  {
   "cell_type": "code",
   "execution_count": 3,
   "id": "bb7e1d57-8f2c-4664-88e2-0e31819a293a",
   "metadata": {
    "tags": []
   },
   "outputs": [],
   "source": [
    "home_jovyan = \"/home/jovyan\""
   ]
  },
  {
   "cell_type": "code",
   "execution_count": 4,
   "id": "428564d9-0df9-464d-b13c-84b2f2a8ab80",
   "metadata": {
    "tags": []
   },
   "outputs": [],
   "source": [
    "work_data = f\"{home_jovyan}/work/data\"\n",
    "work_dir=!pwd\n",
    "work_dir = work_dir[0]"
   ]
  },
  {
   "cell_type": "code",
   "execution_count": 5,
   "id": "cc21389c-13c4-431d-a4db-3eb91210b099",
   "metadata": {
    "tags": []
   },
   "outputs": [
    {
     "data": {
      "text/plain": [
       "'3.4.0'"
      ]
     },
     "execution_count": 5,
     "metadata": {},
     "output_type": "execute_result"
    }
   ],
   "source": [
    "spark_version"
   ]
  },
  {
   "cell_type": "code",
   "execution_count": 6,
   "id": "94f19bbf-6449-4cd1-bdfc-94c11ae263f1",
   "metadata": {
    "tags": []
   },
   "outputs": [
    {
     "name": "stdout",
     "output_type": "stream",
     "text": [
      "/home/jovyan\n"
     ]
    }
   ],
   "source": [
    "print(os.environ['HOME'])"
   ]
  },
  {
   "cell_type": "markdown",
   "id": "2d0d7884-716a-4b54-9cbc-b23ea0f702a0",
   "metadata": {},
   "source": [
    "# Spark Session"
   ]
  },
  {
   "cell_type": "code",
   "execution_count": 7,
   "id": "7008a6ce-789e-4d18-a68a-7bce60e39146",
   "metadata": {
    "tags": []
   },
   "outputs": [],
   "source": [
    "spark = SparkSession.builder\\\n",
    ".appName(\"KafkaConsumer\")\\\n",
    ".master(\"spark://spark-master:17077\")\\\n",
    ".config(\"spark.executor.instances\",\"3\")\\\n",
    ".config(\"spark.executor.cores\",\"1\")\\\n",
    ".config(\"spark.executor.memory\",\"4G\")\\\n",
    ".config(\"spark.sql.session.timeZone\",\"Asia/Seoul\")\\\n",
    ".getOrCreate()\n",
    "\n",
    "spark.conf.set(\"spark.sql.repl.eagerEval.enabled\", True) # display enabled\n",
    "spark.conf.set(\"spark.sql.repl.eagerEval.truncate\", 100) # display output columns size\n"
   ]
  },
  {
   "cell_type": "markdown",
   "id": "e14760a4-b3a2-48c9-b9c8-553936772a7d",
   "metadata": {},
   "source": [
    "# Kafka setting"
   ]
  },
  {
   "cell_type": "code",
   "execution_count": 8,
   "id": "57e4e011-f744-49bc-ac47-c0792d370a77",
   "metadata": {
    "tags": []
   },
   "outputs": [],
   "source": [
    "# configuration\n",
    "kafka_config={\n",
    "    \"bootstrap.servers\":\"kafka:19092\",\n",
    "    \"group.id\":\"seoulcity_consumer_group\",\n",
    "    \"topic.name\":\"seoulcity\"\n",
    "}"
   ]
  },
  {
   "cell_type": "code",
   "execution_count": 9,
   "id": "621c5819-f7d7-48bb-b010-8378dbfeda1e",
   "metadata": {
    "tags": []
   },
   "outputs": [],
   "source": [
    "kafka_reader = spark.readStream\\\n",
    ".format(\"kafka\")\\\n",
    ".option(\"kafka.bootstrap.servers\",kafka_config[\"bootstrap.servers\"])\\\n",
    ".option(\"group.id\",kafka_config[\"group.id\"])\\\n",
    ".option(\"subscribe\",kafka_config[\"topic.name\"])\\\n",
    ".option(\"startingOffsets\",\"earliest\")\\\n",
    ".load()"
   ]
  },
  {
   "cell_type": "markdown",
   "id": "4f191c03-38e3-4e48-acc4-fcdc4e40c3ab",
   "metadata": {},
   "source": [
    "# Schema"
   ]
  },
  {
   "cell_type": "code",
   "execution_count": 15,
   "id": "0a3b4c97-a106-470f-aaeb-71ee173f1e70",
   "metadata": {
    "tags": []
   },
   "outputs": [],
   "source": [
    "seoul_citydata_schema = StructType([\n",
    "    StructField(\"SeoulRtd.citydata\", StructType([\n",
    "        # StructField(\"list_total_count\", StringType(), nullable=False),\n",
    "        # StructField(\"RESULT\", StructType([\n",
    "        #     StructField(\"RESULT.CODE\", StringType(), nullable=False),\n",
    "        #     StructField(\"RESULT.MESSAGE\", StringType(), nullable=False)\n",
    "        # ]), nullable=False),\n",
    "        StructField(\"CITYDATA\", StructType([\n",
    "            StructField(\"AREA_NM\", StringType(), nullable=False),\n",
    "            #도로소통정보\n",
    "            StructField(\"ROAD_TRAFFIC_STTS\", StructType([\n",
    "                StructField(\"AVG_ROAD_DATA\", StructType([\n",
    "                    StructField(\"ROAD_MSG\", StringType(), nullable=False),\n",
    "                    StructField(\"ROAD_TRAFFIC_IDX\", StringType(), nullable=False),\n",
    "                    StructField(\"ROAD_TRFFIC_TIME\", StringType(), nullable=False),\n",
    "                    StructField(\"ROAD_TRAFFIC_SPD\", StringType(), nullable=False),\n",
    "                ]), nullable=False),\n",
    "                StructField(\"ROAD_TRAFFIC_STTS\", ArrayType(StructType([\n",
    "                    StructField(\"LINK_ID\", StringType()),\n",
    "                    StructField(\"ROAD_NM\", StringType()),\n",
    "                    # StructField(\"START_ND_CD\", StringType()),\n",
    "                    StructField(\"START_ND_NM\", StringType()),\n",
    "                    # StructField(\"START_ND_XY\", StringType()),\n",
    "                    # StructField(\"END_ND_CD\", StringType()),\n",
    "                    StructField(\"END_ND_NM\", StringType()),\n",
    "                    # StructField(\"END_ND_XY\", StringType()),\n",
    "                    StructField(\"DIST\", StringType()),\n",
    "                    StructField(\"SPD\", StringType()),\n",
    "                    StructField(\"IDX\", StringType()),\n",
    "                    StructField(\"XYLIST\", StringType())\n",
    "                ])), nullable=False)\n",
    "            ]), nullable=False),\n",
    "            #주차장\n",
    "            StructField(\"PRK_STTS\", StructType([\n",
    "                StructField(\"PRK_STTS\", ArrayType(StructType([\n",
    "                    StructField(\"PRK_NM\", StringType()),\n",
    "                    # StructField(\"PRK_CD\", StringType()),\n",
    "                    StructField(\"CPCTY\", StringType()),\n",
    "                    StructField(\"CUR_PRK_CNT\", StringType()),\n",
    "                    StructField(\"CUR_PRK_TIME\", StringType()),\n",
    "                    StructField(\"CUR_PRK_YN\", StringType()),\n",
    "                    StructField(\"PAY_YN\", StringType()),\n",
    "                    StructField(\"RATES\", StringType()),\n",
    "                    StructField(\"TIME_RATES\", StringType()),\n",
    "                    StructField(\"ADD_RATES\", StringType()),\n",
    "                    StructField(\"ADD_TIME_RATES\", StringType()),\n",
    "                    StructField(\"ADDRESS\", StringType()),\n",
    "                    StructField(\"ROAD_ADDR\", StringType()),\n",
    "                    StructField(\"LNG\", StringType()),\n",
    "                    StructField(\"LAT\", StringType()),\n",
    "                ])), nullable=False)\n",
    "            ]), nullable=False),\n",
    "            #따릉이 \n",
    "            StructField(\"SBIKE_STTS\", StructType([\n",
    "                StructField(\"SBIKE_STTS\", ArrayType(StructType([\n",
    "                    StructField(\"SBIKE_SPOT_NM\", StringType()),\n",
    "                    # StructField(\"SBIKE_SPOT_ID\", StringType()),\n",
    "                    StructField(\"SBIKE_SHARED\", StringType()),\n",
    "                    StructField(\"SBIKE_PARKING_CNT\", StringType()),\n",
    "                    StructField(\"SBIKE_RACK_CNT\", StringType()),\n",
    "                    StructField(\"SBIKE_X\", StringType()),\n",
    "                    StructField(\"SBIKE_Y\", StringType()),\n",
    "                    ])), nullable=False)\n",
    "                ]), nullable=False),\n",
    "            ]), nullable=False)\n",
    "    ]), nullable=False)\n",
    "])\n"
   ]
  },
  {
   "cell_type": "code",
   "execution_count": 16,
   "id": "65f3984f-2320-48e2-b76f-bacdf2af4bf7",
   "metadata": {
    "tags": []
   },
   "outputs": [
    {
     "ename": "AnalysisException",
     "evalue": "[FIELD_NOT_FOUND] No such struct field `CITYDATA` in `SeoulRtd`.`citydata`.; line 1 pos 0",
     "output_type": "error",
     "traceback": [
      "\u001b[0;31m---------------------------------------------------------------------------\u001b[0m",
      "\u001b[0;31mAnalysisException\u001b[0m                         Traceback (most recent call last)",
      "Cell \u001b[0;32mIn[16], line 6\u001b[0m\n\u001b[1;32m      1\u001b[0m kafka_selector\u001b[38;5;241m=\u001b[39m (\n\u001b[1;32m      2\u001b[0m     \u001b[43mkafka_reader\u001b[49m\n\u001b[1;32m      3\u001b[0m \u001b[43m    \u001b[49m\u001b[38;5;241;43m.\u001b[39;49m\u001b[43mselect\u001b[49m\u001b[43m(\u001b[49m\n\u001b[1;32m      4\u001b[0m \u001b[43m        \u001b[49m\u001b[43mcol\u001b[49m\u001b[43m(\u001b[49m\u001b[38;5;124;43m\"\u001b[39;49m\u001b[38;5;124;43mkey\u001b[39;49m\u001b[38;5;124;43m\"\u001b[39;49m\u001b[43m)\u001b[49m\u001b[38;5;241;43m.\u001b[39;49m\u001b[43mcast\u001b[49m\u001b[43m(\u001b[49m\u001b[38;5;124;43m\"\u001b[39;49m\u001b[38;5;124;43mstring\u001b[39;49m\u001b[38;5;124;43m\"\u001b[39;49m\u001b[43m)\u001b[49m\u001b[43m,\u001b[49m\n\u001b[1;32m      5\u001b[0m \u001b[43m        \u001b[49m\u001b[43mfrom_json\u001b[49m\u001b[43m(\u001b[49m\u001b[43mcol\u001b[49m\u001b[43m(\u001b[49m\u001b[38;5;124;43m\"\u001b[39;49m\u001b[38;5;124;43mvalue\u001b[39;49m\u001b[38;5;124;43m\"\u001b[39;49m\u001b[43m)\u001b[49m\u001b[38;5;241;43m.\u001b[39;49m\u001b[43mcast\u001b[49m\u001b[43m(\u001b[49m\u001b[38;5;124;43m\"\u001b[39;49m\u001b[38;5;124;43mstring\u001b[39;49m\u001b[38;5;124;43m\"\u001b[39;49m\u001b[43m)\u001b[49m\u001b[43m,\u001b[49m\u001b[43mseoul_citydata_schema\u001b[49m\u001b[43m)\u001b[49m\u001b[38;5;241;43m.\u001b[39;49m\u001b[43malias\u001b[49m\u001b[43m(\u001b[49m\u001b[38;5;124;43m\"\u001b[39;49m\u001b[38;5;124;43mseoulcity_rawdata\u001b[39;49m\u001b[38;5;124;43m\"\u001b[39;49m\u001b[43m)\u001b[49m\n\u001b[0;32m----> 6\u001b[0m \u001b[43m    \u001b[49m\u001b[43m)\u001b[49m\u001b[38;5;241;43m.\u001b[39;49m\u001b[43mselectExpr\u001b[49m\u001b[43m(\u001b[49m\u001b[38;5;124;43m\"\u001b[39;49m\u001b[38;5;124;43mseoulcity_rawdata.CITYDATA.AREA_NM as key\u001b[39;49m\u001b[38;5;124;43m\"\u001b[39;49m\u001b[43m,\u001b[49m\u001b[38;5;124;43m\"\u001b[39;49m\u001b[38;5;124;43mseoulcity_rawdata.CITYDATA.ROAD_TRAFFIC_STTS\u001b[39;49m\u001b[38;5;124;43m\"\u001b[39;49m\u001b[43m,\u001b[49m\n\u001b[1;32m      7\u001b[0m \u001b[43m                 \u001b[49m\u001b[38;5;124;43m\"\u001b[39;49m\u001b[38;5;124;43mseoulcity_rawdata.CITYDATA.PRK_STTS\u001b[39;49m\u001b[38;5;124;43m\"\u001b[39;49m\u001b[43m,\u001b[49m\u001b[38;5;124;43m\"\u001b[39;49m\u001b[38;5;124;43mseoulcity_rawdata.CITYDATA.SBIKE_STTS\u001b[39;49m\u001b[38;5;124;43m\"\u001b[39;49m\u001b[43m)\u001b[49m\n\u001b[1;32m      8\u001b[0m )\n",
      "File \u001b[0;32m/usr/local/spark/python/pyspark/sql/dataframe.py:3076\u001b[0m, in \u001b[0;36mDataFrame.selectExpr\u001b[0;34m(self, *expr)\u001b[0m\n\u001b[1;32m   3074\u001b[0m \u001b[38;5;28;01mif\u001b[39;00m \u001b[38;5;28mlen\u001b[39m(expr) \u001b[38;5;241m==\u001b[39m \u001b[38;5;241m1\u001b[39m \u001b[38;5;129;01mand\u001b[39;00m \u001b[38;5;28misinstance\u001b[39m(expr[\u001b[38;5;241m0\u001b[39m], \u001b[38;5;28mlist\u001b[39m):\n\u001b[1;32m   3075\u001b[0m     expr \u001b[38;5;241m=\u001b[39m expr[\u001b[38;5;241m0\u001b[39m]  \u001b[38;5;66;03m# type: ignore[assignment]\u001b[39;00m\n\u001b[0;32m-> 3076\u001b[0m jdf \u001b[38;5;241m=\u001b[39m \u001b[38;5;28;43mself\u001b[39;49m\u001b[38;5;241;43m.\u001b[39;49m\u001b[43m_jdf\u001b[49m\u001b[38;5;241;43m.\u001b[39;49m\u001b[43mselectExpr\u001b[49m\u001b[43m(\u001b[49m\u001b[38;5;28;43mself\u001b[39;49m\u001b[38;5;241;43m.\u001b[39;49m\u001b[43m_jseq\u001b[49m\u001b[43m(\u001b[49m\u001b[43mexpr\u001b[49m\u001b[43m)\u001b[49m\u001b[43m)\u001b[49m\n\u001b[1;32m   3077\u001b[0m \u001b[38;5;28;01mreturn\u001b[39;00m DataFrame(jdf, \u001b[38;5;28mself\u001b[39m\u001b[38;5;241m.\u001b[39msparkSession)\n",
      "File \u001b[0;32m/usr/local/spark/python/lib/py4j-0.10.9.7-src.zip/py4j/java_gateway.py:1322\u001b[0m, in \u001b[0;36mJavaMember.__call__\u001b[0;34m(self, *args)\u001b[0m\n\u001b[1;32m   1316\u001b[0m command \u001b[38;5;241m=\u001b[39m proto\u001b[38;5;241m.\u001b[39mCALL_COMMAND_NAME \u001b[38;5;241m+\u001b[39m\\\n\u001b[1;32m   1317\u001b[0m     \u001b[38;5;28mself\u001b[39m\u001b[38;5;241m.\u001b[39mcommand_header \u001b[38;5;241m+\u001b[39m\\\n\u001b[1;32m   1318\u001b[0m     args_command \u001b[38;5;241m+\u001b[39m\\\n\u001b[1;32m   1319\u001b[0m     proto\u001b[38;5;241m.\u001b[39mEND_COMMAND_PART\n\u001b[1;32m   1321\u001b[0m answer \u001b[38;5;241m=\u001b[39m \u001b[38;5;28mself\u001b[39m\u001b[38;5;241m.\u001b[39mgateway_client\u001b[38;5;241m.\u001b[39msend_command(command)\n\u001b[0;32m-> 1322\u001b[0m return_value \u001b[38;5;241m=\u001b[39m \u001b[43mget_return_value\u001b[49m\u001b[43m(\u001b[49m\n\u001b[1;32m   1323\u001b[0m \u001b[43m    \u001b[49m\u001b[43manswer\u001b[49m\u001b[43m,\u001b[49m\u001b[43m \u001b[49m\u001b[38;5;28;43mself\u001b[39;49m\u001b[38;5;241;43m.\u001b[39;49m\u001b[43mgateway_client\u001b[49m\u001b[43m,\u001b[49m\u001b[43m \u001b[49m\u001b[38;5;28;43mself\u001b[39;49m\u001b[38;5;241;43m.\u001b[39;49m\u001b[43mtarget_id\u001b[49m\u001b[43m,\u001b[49m\u001b[43m \u001b[49m\u001b[38;5;28;43mself\u001b[39;49m\u001b[38;5;241;43m.\u001b[39;49m\u001b[43mname\u001b[49m\u001b[43m)\u001b[49m\n\u001b[1;32m   1325\u001b[0m \u001b[38;5;28;01mfor\u001b[39;00m temp_arg \u001b[38;5;129;01min\u001b[39;00m temp_args:\n\u001b[1;32m   1326\u001b[0m     \u001b[38;5;28;01mif\u001b[39;00m \u001b[38;5;28mhasattr\u001b[39m(temp_arg, \u001b[38;5;124m\"\u001b[39m\u001b[38;5;124m_detach\u001b[39m\u001b[38;5;124m\"\u001b[39m):\n",
      "File \u001b[0;32m/usr/local/spark/python/pyspark/errors/exceptions/captured.py:175\u001b[0m, in \u001b[0;36mcapture_sql_exception.<locals>.deco\u001b[0;34m(*a, **kw)\u001b[0m\n\u001b[1;32m    171\u001b[0m converted \u001b[38;5;241m=\u001b[39m convert_exception(e\u001b[38;5;241m.\u001b[39mjava_exception)\n\u001b[1;32m    172\u001b[0m \u001b[38;5;28;01mif\u001b[39;00m \u001b[38;5;129;01mnot\u001b[39;00m \u001b[38;5;28misinstance\u001b[39m(converted, UnknownException):\n\u001b[1;32m    173\u001b[0m     \u001b[38;5;66;03m# Hide where the exception came from that shows a non-Pythonic\u001b[39;00m\n\u001b[1;32m    174\u001b[0m     \u001b[38;5;66;03m# JVM exception message.\u001b[39;00m\n\u001b[0;32m--> 175\u001b[0m     \u001b[38;5;28;01mraise\u001b[39;00m converted \u001b[38;5;28;01mfrom\u001b[39;00m \u001b[38;5;28;01mNone\u001b[39;00m\n\u001b[1;32m    176\u001b[0m \u001b[38;5;28;01melse\u001b[39;00m:\n\u001b[1;32m    177\u001b[0m     \u001b[38;5;28;01mraise\u001b[39;00m\n",
      "\u001b[0;31mAnalysisException\u001b[0m: [FIELD_NOT_FOUND] No such struct field `CITYDATA` in `SeoulRtd`.`citydata`.; line 1 pos 0"
     ]
    }
   ],
   "source": [
    "kafka_selector= (\n",
    "    kafka_reader\n",
    "    .select(\n",
    "        col(\"key\").cast(\"string\"),\n",
    "        from_json(col(\"value\").cast(\"string\"),seoul_citydata_schema).alias(\"seoulcity_rawdata\")\n",
    "    ).selectExpr(\"seoulcity_rawdata.SeoulRtd.citydata.CITYDATA.AREA_NM as key\",\"seoulcity_rawdata.SeoulRtd.citydata.CITYDATA.ROAD_TRAFFIC_STTS\",\n",
    "                 \"seoulcity_rawdata.SeoulRtd.citydata.CITYDATA.PRK_STTS\",\"seoulcity_rawdata.SeoulRtd.citydata.CITYDATA.SBIKE_STTS\")\n",
    ")"
   ]
  },
  {
   "cell_type": "code",
   "execution_count": null,
   "id": "66fffe9a-1baa-464f-affa-122acfaa5abe",
   "metadata": {},
   "outputs": [],
   "source": [
    "\n",
    "p_kafka_selector = (\n",
    "    kafka_selector\n",
    "    .withColumn(\"value\", to_json(struct(\"key\",\"ROAD_TRAFFIC_STTS\",\"PRK_STTS\",\"SBIKE_STTS\")))\n",
    ")"
   ]
  },
  {
   "cell_type": "code",
   "execution_count": 13,
   "id": "72918feb-3142-4c7a-a615-3574c3a55b9b",
   "metadata": {},
   "outputs": [],
   "source": [
    "def displayStatus(name, query, iterations, sleep_secs):\n",
    "    from time import sleep\n",
    "    i = 1\n",
    "    for x in range(iterations):\n",
    "        clear_output(wait=True)      # Output Cell 의 내용을 지웁니다\n",
    "        display('[' + name + '] Iteration: '+str(i)+', Status: '+query.status['message'])\n",
    "        display(query.lastProgress)  # 마지막 수행된 쿼리의 상태를 출력합니다\n",
    "        sleep(sleep_secs)            # 지정된 시간(초)을 대기합니다\n",
    "        i += 1"
   ]
  },
  {
   "cell_type": "code",
   "execution_count": 14,
   "id": "8abc699a-3a14-47a3-a230-5465b1b11721",
   "metadata": {
    "tags": []
   },
   "outputs": [
    {
     "data": {
      "text/plain": [
       "'[kafkaQ] Iteration: 97, Status: Waiting for next trigger'"
      ]
     },
     "metadata": {},
     "output_type": "display_data"
    },
    {
     "data": {
      "text/plain": [
       "{'id': 'ca8536cc-c7d8-4595-a561-3ba80414502c',\n",
       " 'runId': 'ab61f22c-9b8b-4612-93b6-53ebf25e58c1',\n",
       " 'name': 'kafkaQ',\n",
       " 'timestamp': '2023-05-31T08:02:10.000Z',\n",
       " 'batchId': 7,\n",
       " 'numInputRows': 1,\n",
       " 'inputRowsPerSecond': 0.2,\n",
       " 'processedRowsPerSecond': 1.1061946902654867,\n",
       " 'durationMs': {'addBatch': 611,\n",
       "  'commitOffsets': 136,\n",
       "  'getBatch': 0,\n",
       "  'latestOffset': 6,\n",
       "  'queryPlanning': 15,\n",
       "  'triggerExecution': 904,\n",
       "  'walCommit': 134},\n",
       " 'stateOperators': [],\n",
       " 'sources': [{'description': 'KafkaV2[Subscribe[seoulcity]]',\n",
       "   'startOffset': {'seoulcity': {'2': 458, '1': 466, '0': 470}},\n",
       "   'endOffset': {'seoulcity': {'2': 458, '1': 466, '0': 471}},\n",
       "   'latestOffset': {'seoulcity': {'2': 458, '1': 466, '0': 471}},\n",
       "   'numInputRows': 1,\n",
       "   'inputRowsPerSecond': 0.2,\n",
       "   'processedRowsPerSecond': 1.1061946902654867,\n",
       "   'metrics': {'avgOffsetsBehindLatest': '0.0',\n",
       "    'maxOffsetsBehindLatest': '0',\n",
       "    'minOffsetsBehindLatest': '0'}}],\n",
       " 'sink': {'description': 'org.apache.spark.sql.kafka010.KafkaSourceProvider$KafkaTable@bcb3211',\n",
       "  'numOutputRows': 1}}"
      ]
     },
     "metadata": {},
     "output_type": "display_data"
    },
    {
     "ename": "KeyboardInterrupt",
     "evalue": "",
     "output_type": "error",
     "traceback": [
      "\u001b[0;31m---------------------------------------------------------------------------\u001b[0m",
      "\u001b[0;31mKeyboardInterrupt\u001b[0m                         Traceback (most recent call last)",
      "Cell \u001b[0;32mIn[14], line 22\u001b[0m\n\u001b[1;32m     14\u001b[0m kafkaTrigger \u001b[38;5;241m=\u001b[39m (\n\u001b[1;32m     15\u001b[0m     kafkaWriter_origin\n\u001b[1;32m     16\u001b[0m     \u001b[38;5;241m.\u001b[39mtrigger(processingTime\u001b[38;5;241m=\u001b[39m\u001b[38;5;124m\"\u001b[39m\u001b[38;5;124m5 second\u001b[39m\u001b[38;5;124m\"\u001b[39m)\n\u001b[1;32m     17\u001b[0m     \u001b[38;5;241m.\u001b[39moption(\u001b[38;5;124m\"\u001b[39m\u001b[38;5;124mcheckpointLocation\u001b[39m\u001b[38;5;124m\"\u001b[39m, checkpointLocation)\n\u001b[1;32m     18\u001b[0m )\n\u001b[1;32m     20\u001b[0m kafkaQuery \u001b[38;5;241m=\u001b[39m kafkaTrigger\u001b[38;5;241m.\u001b[39mstart()\n\u001b[0;32m---> 22\u001b[0m \u001b[43mdisplayStatus\u001b[49m\u001b[43m(\u001b[49m\u001b[43mqname\u001b[49m\u001b[43m,\u001b[49m\u001b[43m \u001b[49m\u001b[43mkafkaQuery\u001b[49m\u001b[43m,\u001b[49m\u001b[43m \u001b[49m\u001b[38;5;241;43m1000\u001b[39;49m\u001b[43m,\u001b[49m\u001b[43m \u001b[49m\u001b[38;5;241;43m5\u001b[39;49m\u001b[43m)\u001b[49m\n\u001b[1;32m     24\u001b[0m kafkaQuery\u001b[38;5;241m.\u001b[39mstop()\n",
      "Cell \u001b[0;32mIn[13], line 8\u001b[0m, in \u001b[0;36mdisplayStatus\u001b[0;34m(name, query, iterations, sleep_secs)\u001b[0m\n\u001b[1;32m      6\u001b[0m display(\u001b[38;5;124m'\u001b[39m\u001b[38;5;124m[\u001b[39m\u001b[38;5;124m'\u001b[39m \u001b[38;5;241m+\u001b[39m name \u001b[38;5;241m+\u001b[39m \u001b[38;5;124m'\u001b[39m\u001b[38;5;124m] Iteration: \u001b[39m\u001b[38;5;124m'\u001b[39m\u001b[38;5;241m+\u001b[39m\u001b[38;5;28mstr\u001b[39m(i)\u001b[38;5;241m+\u001b[39m\u001b[38;5;124m'\u001b[39m\u001b[38;5;124m, Status: \u001b[39m\u001b[38;5;124m'\u001b[39m\u001b[38;5;241m+\u001b[39mquery\u001b[38;5;241m.\u001b[39mstatus[\u001b[38;5;124m'\u001b[39m\u001b[38;5;124mmessage\u001b[39m\u001b[38;5;124m'\u001b[39m])\n\u001b[1;32m      7\u001b[0m display(query\u001b[38;5;241m.\u001b[39mlastProgress)  \u001b[38;5;66;03m# 마지막 수행된 쿼리의 상태를 출력합니다\u001b[39;00m\n\u001b[0;32m----> 8\u001b[0m \u001b[43msleep\u001b[49m\u001b[43m(\u001b[49m\u001b[43msleep_secs\u001b[49m\u001b[43m)\u001b[49m            \u001b[38;5;66;03m# 지정된 시간(초)을 대기합니다\u001b[39;00m\n\u001b[1;32m      9\u001b[0m i \u001b[38;5;241m+\u001b[39m\u001b[38;5;241m=\u001b[39m \u001b[38;5;241m1\u001b[39m\n",
      "\u001b[0;31mKeyboardInterrupt\u001b[0m: "
     ]
    }
   ],
   "source": [
    "qname = \"kafkaQ\"\n",
    "kafkaWriter_origin = (\n",
    "    p_kafka_selector.select(\"key\", \"value\")\n",
    "    .writeStream\n",
    "    .queryName(qname)\n",
    "    .format(\"kafka\")\n",
    "    .option(\"kafka.bootstrap.servers\", \"kafka:19092\")\n",
    "    .option(\"topic\", \"seoulcity_visual\")\n",
    "    .outputMode(\"append\")\n",
    ")\n",
    "\n",
    "checkpointLocation = f\"{work_dir}/tmp/{qname}\"\n",
    "!rm -rf $checkpointLocation\n",
    "kafkaTrigger = (\n",
    "    kafkaWriter_origin\n",
    "    .trigger(processingTime=\"5 second\")\n",
    "    .option(\"checkpointLocation\", checkpointLocation)\n",
    ")\n",
    "\n",
    "kafkaQuery = kafkaTrigger.start()\n",
    "\n",
    "displayStatus(qname, kafkaQuery, 1000, 5)\n",
    "    \n",
    "kafkaQuery.stop()"
   ]
  },
  {
   "cell_type": "code",
   "execution_count": null,
   "id": "af4ee4db-c134-47b7-a722-2da204337d7e",
   "metadata": {},
   "outputs": [],
   "source": []
  }
 ],
 "metadata": {
  "kernelspec": {
   "display_name": "Python 3 (ipykernel)",
   "language": "python",
   "name": "python3"
  },
  "language_info": {
   "codemirror_mode": {
    "name": "ipython",
    "version": 3
   },
   "file_extension": ".py",
   "mimetype": "text/x-python",
   "name": "python",
   "nbconvert_exporter": "python",
   "pygments_lexer": "ipython3",
   "version": "3.10.10"
  }
 },
 "nbformat": 4,
 "nbformat_minor": 5
}
