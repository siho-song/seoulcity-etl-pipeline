import urllib.request
import requests
import schedule
import tuime


URL = "http://openapi.seoul.go.kr:8088/"
SERVICE_KEY="46624d776a676b6438337063467862"
MEDIA_TYPE="/json"
SERVICE="/citydata"
START_INDEX="/1"
END_INDEX="/10"
AREA_NM=


# res= requests.get(


request_url = URL+SERVICE_KEY+MEDIA_TYPE+SERVICE
