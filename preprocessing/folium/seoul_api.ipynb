{
 "cells": [
  {
   "cell_type": "code",
   "execution_count": 1,
   "id": "8afa2474-d07c-4022-9c59-99b7612b229c",
   "metadata": {},
   "outputs": [],
   "source": [
    "import urllib.request\n",
    "import requests\n",
    "import schedule\n",
    "import tuime"
   ]
  },
  {
   "cell_type": "code",
   "execution_count": null,
   "id": "350a324d-5df0-43f5-bb59-5996df641fb6",
   "metadata": {},
   "outputs": [],
   "source": [
    "URL = \"http://openapi.seoul.go.kr:8088/\"\n",
    "SERVICE_KEY=\"46624d776a676b6438337063467862\"\n",
    "MEDIA_TYPE=\"/json\"\n",
    "SERVICE=\"/citydata\"\n",
    "START_INDEX=\"/1\"\n",
    "END_INDEX=\"/10\"\n",
    "AREA_NM="
   ]
  },
  {
   "cell_type": "code",
   "execution_count": null,
   "id": "5e22077b-4377-4898-b5df-628ab25d1446",
   "metadata": {},
   "outputs": [],
   "source": [
    "# res= requests.get("
   ]
  },
  {
   "cell_type": "code",
   "execution_count": null,
   "id": "7b2eaf64-39a7-4139-8fd9-7caae3cf1eff",
   "metadata": {},
   "outputs": [],
   "source": [
    "request_url = URL+SERVICE_KEY+MEDIA_TYPE+SERVICE"
   ]
  }
 ],
 "metadata": {
  "kernelspec": {
   "display_name": "Python 3 (ipykernel)",
   "language": "python",
   "name": "python3"
  },
  "language_info": {
   "codemirror_mode": {
    "name": "ipython",
    "version": 3
   },
   "file_extension": ".py",
   "mimetype": "text/x-python",
   "name": "python",
   "nbconvert_exporter": "python",
   "pygments_lexer": "ipython3",
   "version": "3.10.9"
  }
 },
 "nbformat": 4,
 "nbformat_minor": 5
}
